import numpy as np
import tensorflow as tf
from tensorflow import keras
import matplotlib.pyplot as plt
from keras.models import Sequential
from keras.layers import Dense
from sklearn.model_selection import train_test_split
from sklearn.preprocessing import StandardScaler
from tensorflow.keras import layers
from sklearn.metrics import mean_absolute_error, r2_score
import pandas as pd
import ipywidgets as widgets
from IPython.display import display, clear_output
import warnings
warnings.filterwarnings('ignore')

file_path = 'bodyfat.csv'
data = pd.read_csv(file_path)

X = data[['Age', 'Weight', 'Height', 'Neck', 'Chest', 'Abdomen', 'Hip',
          'Thigh', 'Knee', 'Ankle', 'Biceps', 'Forearm', 'Wrist']]
y = data['BodyFat']

X = np.array(X, dtype=float)
y = np.array(y, dtype=float)
X_train, X_test, y_train, y_test = train_test_split(X, y, test_size=0.2, random_state=42)

# Chuẩn hóa dữ liệu
scaler = StandardScaler()
X_train_scaled = scaler.fit_transform(X_train)
X_test_scaled = scaler.transform(X_test)

# Tạo và huấn luyện model
model = keras.Sequential([
    layers.Dense(64, activation='relu', input_shape=(X_train.shape[1],)),
    layers.Dense(32, activation='relu'),
    layers.Dense(1)
])

model.compile(optimizer='adam', loss='mse', metrics=['mae'])

history = model.fit(X_train_scaled, y_train, validation_split=0.2,
                    epochs=100, batch_size=16, verbose=0)

# Đánh giá model
test_predictions = model.predict(X_test_scaled)
mae = mean_absolute_error(y_test, test_predictions)
r2 = r2_score(y_test, test_predictions)

print("\n" + "="*60)
print("🎯 GIAO DIỆN DỰ ĐOÁN TỶ LỆ MỠ CƠ THỂ")
print("="*60)

# Tạo các widget input
style = {'description_width': '120px'}
layout = widgets.Layout(width='300px')

age_widget = widgets.IntSlider(
    value=30, min=18, max=80, step=1,
    description='Tuổi (năm):', style=style, layout=layout
)

weight_widget = widgets.FloatSlider(
    value=70.0, min=40.0, max=150.0, step=0.5,
    description='Cân nặng (kg):', style=style, layout=layout
)

height_widget = widgets.FloatSlider(
    value=1.70, min=1.40, max=2.10, step=0.01,
    description='Chiều cao (m):', style=style, layout=layout
)

neck_widget = widgets.FloatSlider(
    value=37.0, min=30.0, max=45.0, step=0.1,
    description='Cổ (cm):', style=style, layout=layout
)

chest_widget = widgets.FloatSlider(
    value=100.0, min=80.0, max=130.0, step=0.5,
    description='Ngực (cm):', style=style, layout=layout
)

abdomen_widget = widgets.FloatSlider(
    value=90.0, min=70.0, max=130.0, step=0.5,
    description='Bụng (cm):', style=style, layout=layout
)

hip_widget = widgets.FloatSlider(
    value=100.0, min=80.0, max=120.0, step=0.5,
    description='Hông (cm):', style=style, layout=layout
)

thigh_widget = widgets.FloatSlider(
    value=58.0, min=45.0, max=75.0, step=0.5,
    description='Đùi (cm):', style=style, layout=layout
)

knee_widget = widgets.FloatSlider(
    value=38.0, min=32.0, max=45.0, step=0.1,
    description='Đầu gối (cm):', style=style, layout=layout
)

ankle_widget = widgets.FloatSlider(
    value=23.0, min=19.0, max=30.0, step=0.1,
    description='Cổ chân (cm):', style=style, layout=layout
)

biceps_widget = widgets.FloatSlider(
    value=32.0, min=25.0, max=45.0, step=0.1,
    description='Bắp tay (cm):', style=style, layout=layout
)

forearm_widget = widgets.FloatSlider(
    value=28.0, min=22.0, max=35.0, step=0.1,
    description='Cẳng tay (cm):', style=style, layout=layout
)

wrist_widget = widgets.FloatSlider(
    value=18.0, min=15.0, max=22.0, step=0.1,
    description='Cổ tay (cm):', style=style, layout=layout
)

# Button để dự đoán
predict_button = widgets.Button(
    description='DỰ ĐOÁN',
    button_style='success',
    layout=widgets.Layout(width='200px', height='40px')
)

# Output widget để hiển thị kết quả
output_widget = widgets.Output()

def predict_body_fat(button):
    with output_widget:
        clear_output()

        # Lấy giá trị từ các widget
        input_data = np.array([[
            age_widget.value,
            weight_widget.value,
            height_widget.value,
            neck_widget.value,
            chest_widget.value,
            abdomen_widget.value,
            hip_widget.value,
            thigh_widget.value,
            knee_widget.value,
            ankle_widget.value,
            biceps_widget.value,
            forearm_widget.value,
            wrist_widget.value
        ]])

        # Chuẩn hóa dữ liệu input
        input_scaled = scaler.transform(input_data)

        # Dự đoán
        prediction = model.predict(input_scaled, verbose=0)[0][0]

        # Hiển thị kết quả
        print("KẾT QUỞ DỰ ĐOÁN")
        print("="*40)
        print(f"Tỷ lệ mỡ cơ thể dự đoán: {prediction:.1f}%")

        # Phân loại
        if prediction < 10:
            category = "Rất thấp ⚡"
            color = "🔵"
        elif prediction < 15:
            category = "Thấp 💪"
            color = "🟢"
        elif prediction < 20:
            category = "Bình thường 👍"
            color = "🟡"
        elif prediction < 25:
            category = "Hơi cao 📈"
            color = "🟠"
        else:
            category = "Cao ⚠️"
            color = "🔴"

        print(f"{color} Phân loại: {category}")

        # Tính BMI để tham khảo thêm
        bmi = weight_widget.value / (height_widget.value ** 2)
        print(f"📏 BMI tham khảo: {bmi:.1f}")

# Kết nối button với function
predict_button.on_click(predict_body_fat)

# Tạo layout cho UI
left_column = widgets.VBox([
    widgets.HTML("<h3>👤 Thông tin cơ bản</h3>"),
    age_widget,
    weight_widget,
    height_widget,
    widgets.HTML("<br><h3>📏 Số đo cơ thể (cm)</h3>"),
    neck_widget,
    chest_widget,
    abdomen_widget,
])

right_column = widgets.VBox([
    widgets.HTML("<h3>📏 Số đo chi (cm)</h3>"),
    hip_widget,
    thigh_widget,
    knee_widget,
    ankle_widget,
    biceps_widget,
    forearm_widget,
    wrist_widget,
])

input_section = widgets.HBox([left_column, right_column])
button_section = widgets.VBox([
    widgets.HTML("<br>"),
    predict_button,
    widgets.HTML("<br>")
], layout=widgets.Layout(align_items='center'))

# Define main_interface as a container for the UI elements
main_interface = widgets.VBox([input_section, button_section, output_widget])

display(main_interface)

plt.figure(figsize=(12, 4))

plt.subplot(1, 2, 1)
plt.plot(history.history['loss'], label='Training Loss')
plt.plot(history.history['val_loss'], label='Validation Loss')
plt.title('Model Loss')
plt.xlabel('Epoch')
plt.ylabel('Loss (MSE)')
plt.legend()
plt.grid(True, alpha=0.3)

plt.subplot(1, 2, 2)
plt.plot(history.history['mae'], label='Training MAE')
plt.plot(history.history['val_mae'], label='Validation MAE')
plt.title('Model MAE')
plt.xlabel('Epoch')
plt.ylabel('MAE (%)')
plt.legend()
plt.grid(True, alpha=0.3)

plt.tight_layout()
plt.show()
